{
  "nbformat": 4,
  "nbformat_minor": 0,
  "metadata": {
    "kernelspec": {
      "language": "python",
      "display_name": "Python 3",
      "name": "python3"
    },
    "language_info": {
      "pygments_lexer": "ipython3",
      "nbconvert_exporter": "python",
      "version": "3.6.4",
      "file_extension": ".py",
      "codemirror_mode": {
        "name": "ipython",
        "version": 3
      },
      "name": "python",
      "mimetype": "text/x-python"
    },
    "colab": {
      "name": "simpsons.ipynb",
      "provenance": []
    }
  },
  "cells": [
    {
      "cell_type": "code",
      "metadata": {
        "_uuid": "8f2839f25d086af736a60e9eeb907d3b93b6e0e5",
        "_cell_guid": "b1076dfc-b9ad-4769-8c92-a6c4dae69d19",
        "trusted": true,
        "id": "MQoxjirY4S5o"
      },
      "source": [
        "# Installing `caer` and `canaro` since they don't come pre-installed\n",
        "!pip install --upgrade caer canaro"
      ],
      "execution_count": null,
      "outputs": []
    },
    {
      "cell_type": "code",
      "metadata": {
        "_uuid": "d629ff2d2480ee46fbb7e2d37f6b5fab8052498a",
        "_cell_guid": "79c7e3d0-c299-4dcb-8224-4455121ee9b0",
        "trusted": true,
        "id": "_yldS7bG4S58"
      },
      "source": [
        "import os\n",
        "import caer\n",
        "import canaro\n",
        "import numpy as np\n",
        "import cv2 as cv\n",
        "import gc\n",
        "import sklearn.model_selection as skm \n",
        "#pylint:disable=no-member (Removes linting problems with cv)"
      ],
      "execution_count": null,
      "outputs": []
    },
    {
      "cell_type": "code",
      "metadata": {
        "trusted": true,
        "id": "TuC64gTq4S6K"
      },
      "source": [
        "IMG_SIZE = (80,80)\n",
        "channels = 1\n",
        "char_path = r'../input/the-simpsons-characters-dataset/simpsons_dataset'"
      ],
      "execution_count": null,
      "outputs": []
    },
    {
      "cell_type": "code",
      "metadata": {
        "trusted": true,
        "id": "RD5OHUE84S6U"
      },
      "source": [
        "# Creating a character dictionary, sorting it in descending order\n",
        "char_dict = {}\n",
        "for char in os.listdir(char_path):\n",
        "    char_dict[char] = len(os.listdir(os.path.join(char_path,char)))\n",
        "\n",
        "# Sort in descending order\n",
        "char_dict = caer.sort_dict(char_dict, descending=True)\n",
        "char_dict"
      ],
      "execution_count": null,
      "outputs": []
    },
    {
      "cell_type": "code",
      "metadata": {
        "trusted": true,
        "id": "OQ09DqmI4S6g"
      },
      "source": [
        "#  Getting the first 10 categories with the most number of images\n",
        "characters = []\n",
        "count = 0\n",
        "for i in char_dict:\n",
        "    characters.append(i[0])\n",
        "    count += 1\n",
        "    if count >= 10:\n",
        "        break\n",
        "characters"
      ],
      "execution_count": null,
      "outputs": []
    },
    {
      "cell_type": "code",
      "metadata": {
        "trusted": true,
        "id": "X4UnTWk74S6q"
      },
      "source": [
        "# Create the training data\n",
        "train = caer.preprocess_from_dir(char_path, characters, channels=channels, IMG_SIZE=IMG_SIZE, isShuffle=True)"
      ],
      "execution_count": null,
      "outputs": []
    },
    {
      "cell_type": "code",
      "metadata": {
        "trusted": true,
        "id": "ZaSuzC2J4S6z"
      },
      "source": [
        "# Number of training samples\n",
        "len(train)"
      ],
      "execution_count": null,
      "outputs": []
    },
    {
      "cell_type": "code",
      "metadata": {
        "trusted": true,
        "id": "hSw-V2H24S7A"
      },
      "source": [
        "# Visualizing the data (OpenCV doesn't display well in Jupyter notebooks)\n",
        "import matplotlib.pyplot as plt\n",
        "plt.figure(figsize=(30,30))\n",
        "plt.imshow(train[0][0], cmap='gray')\n",
        "plt.show()"
      ],
      "execution_count": null,
      "outputs": []
    },
    {
      "cell_type": "code",
      "metadata": {
        "trusted": true,
        "id": "arO-90034S7J"
      },
      "source": [
        "# Separating the array and corresponding labels\n",
        "featureSet, labels = caer.sep_train(train, IMG_SIZE=IMG_SIZE)"
      ],
      "execution_count": null,
      "outputs": []
    },
    {
      "cell_type": "code",
      "metadata": {
        "trusted": true,
        "id": "Sl8VnLCY4S7O"
      },
      "source": [
        "from tensorflow.keras.utils import to_categorical\n",
        "\n",
        "# Normalize the featureSet ==> (0,1)\n",
        "featureSet = caer.normalize(featureSet)\n",
        "# Converting numerical labels to binary class vectors\n",
        "labels = to_categorical(labels, len(characters))"
      ],
      "execution_count": null,
      "outputs": []
    },
    {
      "cell_type": "code",
      "metadata": {
        "trusted": true,
        "id": "pzXXrqbt4S7S"
      },
      "source": [
        "## NOTE:\n",
        "## In the tutorial, I've use the following line\n",
        "### x_train, x_val, y_train, y_val = caer.train_val_split(featureSet, labels, val_ratio=.2)\n",
        "## However, due to recent API changes in `caer`, this is now a deprecated feature. \n",
        "## Instead, you can use the following line (which use's SkLearn's train-test split feature). \n",
        "## Both achieve the same end result \n",
        "\n",
        "# Do note that `val_ratio` is now `test_size`. \n",
        "split_data = skm.train_test_split(featureSet, labels, test_size=.2)\n",
        "x_train, x_val, y_train, y_val = (np.array(item) for item in split_data)"
      ],
      "execution_count": null,
      "outputs": []
    },
    {
      "cell_type": "code",
      "metadata": {
        "trusted": true,
        "id": "emsrpYWZ4S7W"
      },
      "source": [
        "del train\n",
        "del featureSet\n",
        "del labels \n",
        "gc.collect()"
      ],
      "execution_count": null,
      "outputs": []
    },
    {
      "cell_type": "code",
      "metadata": {
        "trusted": true,
        "id": "NkS1ceD94S7a"
      },
      "source": [
        "# Useful variables when training\n",
        "BATCH_SIZE = 32\n",
        "EPOCHS = 10"
      ],
      "execution_count": null,
      "outputs": []
    },
    {
      "cell_type": "code",
      "metadata": {
        "trusted": true,
        "id": "_atEyygG4S7g"
      },
      "source": [
        "# Image data generator (introduces randomness in network ==> better accuracy)\n",
        "datagen = canaro.generators.imageDataGenerator()\n",
        "train_gen = datagen.flow(x_train, y_train, batch_size=BATCH_SIZE)"
      ],
      "execution_count": null,
      "outputs": []
    },
    {
      "cell_type": "code",
      "metadata": {
        "trusted": true,
        "id": "Y8fjXBuH4S7m"
      },
      "source": [
        "# Create our model (returns a compiled model)\n",
        "model = canaro.models.createSimpsonsModel(IMG_SIZE=IMG_SIZE, channels=channels, output_dim=len(characters), \n",
        "                                         loss='binary_crossentropy', decay=1e-7, learning_rate=0.001, momentum=0.9,\n",
        "                                         nesterov=True)"
      ],
      "execution_count": null,
      "outputs": []
    },
    {
      "cell_type": "code",
      "metadata": {
        "trusted": true,
        "id": "CepcT54J4S7t"
      },
      "source": [
        "model.summary()"
      ],
      "execution_count": null,
      "outputs": []
    },
    {
      "cell_type": "code",
      "metadata": {
        "trusted": true,
        "id": "AknG90ch4S7-"
      },
      "source": [
        "# Training the model\n",
        "\n",
        "from tensorflow.keras.callbacks import LearningRateScheduler\n",
        "callbacks_list = [LearningRateScheduler(canaro.lr_schedule)]\n",
        "training = model.fit(train_gen,\n",
        "                    steps_per_epoch=len(x_train)//BATCH_SIZE,\n",
        "                    epochs=EPOCHS,\n",
        "                    validation_data=(x_val,y_val),\n",
        "                    validation_steps=len(y_val)//BATCH_SIZE,\n",
        "                    callbacks = callbacks_list)"
      ],
      "execution_count": null,
      "outputs": []
    },
    {
      "cell_type": "code",
      "metadata": {
        "trusted": true,
        "id": "CUifBqOG4S8G"
      },
      "source": [
        "characters"
      ],
      "execution_count": null,
      "outputs": []
    },
    {
      "cell_type": "markdown",
      "metadata": {
        "id": "qiNY_zSy6Quj"
      },
      "source": [
        "## Testing"
      ]
    },
    {
      "cell_type": "code",
      "metadata": {
        "trusted": true,
        "id": "ETnmB3DC4S8M"
      },
      "source": [
        "test_path = r'../input/the-simpsons-characters-dataset/kaggle_simpson_testset/kaggle_simpson_testset/charles_montgomery_burns_0.jpg'\n",
        "\n",
        "img = cv.imread(test_path)\n",
        "\n",
        "plt.imshow(img)\n",
        "plt.show()"
      ],
      "execution_count": null,
      "outputs": []
    },
    {
      "cell_type": "code",
      "metadata": {
        "trusted": true,
        "id": "yJjmMuvj4S8T"
      },
      "source": [
        "def prepare(image):\n",
        "    image = cv.cvtColor(image, cv.COLOR_BGR2GRAY)\n",
        "    image = cv.resize(image, IMG_SIZE)\n",
        "    image = caer.reshape(image, IMG_SIZE, 1)\n",
        "    return image"
      ],
      "execution_count": null,
      "outputs": []
    },
    {
      "cell_type": "code",
      "metadata": {
        "trusted": true,
        "id": "hZTjUKKn4S8a"
      },
      "source": [
        "predictions = model.predict(prepare(img))"
      ],
      "execution_count": null,
      "outputs": []
    },
    {
      "cell_type": "code",
      "metadata": {
        "trusted": true,
        "id": "3a4AW8qT4S8g"
      },
      "source": [
        "# Getting class with the highest probability\n",
        "print(characters[np.argmax(predictions[0])])"
      ],
      "execution_count": null,
      "outputs": []
    }
  ]
}
